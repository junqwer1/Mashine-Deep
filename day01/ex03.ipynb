{
 "cells": [
  {
   "cell_type": "code",
   "execution_count": 1,
   "id": "53536ccf-eb49-48d6-86eb-e8bfeefaaf1d",
   "metadata": {},
   "outputs": [],
   "source": [
    "import numpy as np\n",
    "# 브로드 캐스팅\n",
    "nums = np.array([10, 20, 30, 40])\n"
   ]
  },
  {
   "cell_type": "code",
   "execution_count": 2,
   "id": "79e6b3fe-29d7-4e61-a53f-2fe44fce6285",
   "metadata": {},
   "outputs": [
    {
     "name": "stdout",
     "output_type": "stream",
     "text": [
      "[20 40 60 80]\n"
     ]
    }
   ],
   "source": [
    "nums2 = nums * 2\n",
    "print(nums2)"
   ]
  },
  {
   "cell_type": "code",
   "execution_count": 3,
   "id": "126674f3-85a5-467f-b9ce-31c585112c7b",
   "metadata": {},
   "outputs": [
    {
     "name": "stdout",
     "output_type": "stream",
     "text": [
      "[ 5 15 25 35]\n"
     ]
    }
   ],
   "source": [
    "nums3 = nums - 5\n",
    "print(nums3)"
   ]
  },
  {
   "cell_type": "code",
   "execution_count": 4,
   "id": "a0ac91d3-652d-4095-9f9c-7c71e0f84637",
   "metadata": {},
   "outputs": [
    {
     "name": "stdout",
     "output_type": "stream",
     "text": [
      "[[ 10   1 100]\n",
      " [ 20   2 200]\n",
      " [ 30   3 300]]\n"
     ]
    }
   ],
   "source": [
    "data = np.column_stack(([10, 20, 30], [1, 2, 3], [100, 200, 300]))\n",
    "print(data)"
   ]
  }
 ],
 "metadata": {
  "kernelspec": {
   "display_name": "Python 3 (ipykernel)",
   "language": "python",
   "name": "python3"
  },
  "language_info": {
   "codemirror_mode": {
    "name": "ipython",
    "version": 3
   },
   "file_extension": ".py",
   "mimetype": "text/x-python",
   "name": "python",
   "nbconvert_exporter": "python",
   "pygments_lexer": "ipython3",
   "version": "3.12.7"
  }
 },
 "nbformat": 4,
 "nbformat_minor": 5
}
