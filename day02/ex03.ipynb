{
 "cells": [
  {
   "cell_type": "code",
   "execution_count": 2,
   "id": "72a3a5db-c6c0-4146-b58f-6e9a16459043",
   "metadata": {},
   "outputs": [
    {
     "name": "stdout",
     "output_type": "stream",
     "text": [
      "[(10, 1), (20, 2), (30, 3)]\n"
     ]
    }
   ],
   "source": [
    "nums = list(zip([10, 20, 30], [1, 2, 3]))\n",
    "print(nums)"
   ]
  },
  {
   "cell_type": "code",
   "execution_count": 4,
   "id": "64a2f3b9-9a02-4a51-8d45-993a2b3b7a85",
   "metadata": {},
   "outputs": [
    {
     "name": "stdout",
     "output_type": "stream",
     "text": [
      "[[10  1]\n",
      " [20  2]\n",
      " [30  3]]\n"
     ]
    }
   ],
   "source": [
    "# 넘파이 column_stack\n",
    "import numpy as np\n",
    "nums_array =  np.column_stack((np.array([10, 20, 30]), np.array([1,2,3])))\n",
    "print(nums_array)"
   ]
  },
  {
   "cell_type": "code",
   "execution_count": null,
   "id": "13e89c23-470c-4052-92be-77191e7b4a36",
   "metadata": {},
   "outputs": [],
   "source": []
  }
 ],
 "metadata": {
  "kernelspec": {
   "display_name": "Python 3 (ipykernel)",
   "language": "python",
   "name": "python3"
  },
  "language_info": {
   "codemirror_mode": {
    "name": "ipython",
    "version": 3
   },
   "file_extension": ".py",
   "mimetype": "text/x-python",
   "name": "python",
   "nbconvert_exporter": "python",
   "pygments_lexer": "ipython3",
   "version": "3.12.7"
  }
 },
 "nbformat": 4,
 "nbformat_minor": 5
}
